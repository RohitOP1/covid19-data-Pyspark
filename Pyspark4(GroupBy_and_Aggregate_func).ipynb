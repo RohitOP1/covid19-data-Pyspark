{
  "nbformat": 4,
  "nbformat_minor": 0,
  "metadata": {
    "colab": {
      "provenance": []
    },
    "kernelspec": {
      "name": "python3",
      "display_name": "Python 3"
    },
    "language_info": {
      "name": "python"
    }
  },
  "cells": [
    {
      "cell_type": "code",
      "execution_count": 1,
      "metadata": {
        "colab": {
          "base_uri": "https://localhost:8080/",
          "height": 74
        },
        "id": "716LqZaBoXDJ",
        "outputId": "7711f846-437c-4323-8980-a8492b5fcc2d"
      },
      "outputs": [
        {
          "output_type": "display_data",
          "data": {
            "text/plain": [
              "<IPython.core.display.HTML object>"
            ],
            "text/html": [
              "\n",
              "     <input type=\"file\" id=\"files-9a456bd0-b792-46e8-bd16-19d447fed639\" name=\"files[]\" multiple disabled\n",
              "        style=\"border:none\" />\n",
              "     <output id=\"result-9a456bd0-b792-46e8-bd16-19d447fed639\">\n",
              "      Upload widget is only available when the cell has been executed in the\n",
              "      current browser session. Please rerun this cell to enable.\n",
              "      </output>\n",
              "      <script>// Copyright 2017 Google LLC\n",
              "//\n",
              "// Licensed under the Apache License, Version 2.0 (the \"License\");\n",
              "// you may not use this file except in compliance with the License.\n",
              "// You may obtain a copy of the License at\n",
              "//\n",
              "//      http://www.apache.org/licenses/LICENSE-2.0\n",
              "//\n",
              "// Unless required by applicable law or agreed to in writing, software\n",
              "// distributed under the License is distributed on an \"AS IS\" BASIS,\n",
              "// WITHOUT WARRANTIES OR CONDITIONS OF ANY KIND, either express or implied.\n",
              "// See the License for the specific language governing permissions and\n",
              "// limitations under the License.\n",
              "\n",
              "/**\n",
              " * @fileoverview Helpers for google.colab Python module.\n",
              " */\n",
              "(function(scope) {\n",
              "function span(text, styleAttributes = {}) {\n",
              "  const element = document.createElement('span');\n",
              "  element.textContent = text;\n",
              "  for (const key of Object.keys(styleAttributes)) {\n",
              "    element.style[key] = styleAttributes[key];\n",
              "  }\n",
              "  return element;\n",
              "}\n",
              "\n",
              "// Max number of bytes which will be uploaded at a time.\n",
              "const MAX_PAYLOAD_SIZE = 100 * 1024;\n",
              "\n",
              "function _uploadFiles(inputId, outputId) {\n",
              "  const steps = uploadFilesStep(inputId, outputId);\n",
              "  const outputElement = document.getElementById(outputId);\n",
              "  // Cache steps on the outputElement to make it available for the next call\n",
              "  // to uploadFilesContinue from Python.\n",
              "  outputElement.steps = steps;\n",
              "\n",
              "  return _uploadFilesContinue(outputId);\n",
              "}\n",
              "\n",
              "// This is roughly an async generator (not supported in the browser yet),\n",
              "// where there are multiple asynchronous steps and the Python side is going\n",
              "// to poll for completion of each step.\n",
              "// This uses a Promise to block the python side on completion of each step,\n",
              "// then passes the result of the previous step as the input to the next step.\n",
              "function _uploadFilesContinue(outputId) {\n",
              "  const outputElement = document.getElementById(outputId);\n",
              "  const steps = outputElement.steps;\n",
              "\n",
              "  const next = steps.next(outputElement.lastPromiseValue);\n",
              "  return Promise.resolve(next.value.promise).then((value) => {\n",
              "    // Cache the last promise value to make it available to the next\n",
              "    // step of the generator.\n",
              "    outputElement.lastPromiseValue = value;\n",
              "    return next.value.response;\n",
              "  });\n",
              "}\n",
              "\n",
              "/**\n",
              " * Generator function which is called between each async step of the upload\n",
              " * process.\n",
              " * @param {string} inputId Element ID of the input file picker element.\n",
              " * @param {string} outputId Element ID of the output display.\n",
              " * @return {!Iterable<!Object>} Iterable of next steps.\n",
              " */\n",
              "function* uploadFilesStep(inputId, outputId) {\n",
              "  const inputElement = document.getElementById(inputId);\n",
              "  inputElement.disabled = false;\n",
              "\n",
              "  const outputElement = document.getElementById(outputId);\n",
              "  outputElement.innerHTML = '';\n",
              "\n",
              "  const pickedPromise = new Promise((resolve) => {\n",
              "    inputElement.addEventListener('change', (e) => {\n",
              "      resolve(e.target.files);\n",
              "    });\n",
              "  });\n",
              "\n",
              "  const cancel = document.createElement('button');\n",
              "  inputElement.parentElement.appendChild(cancel);\n",
              "  cancel.textContent = 'Cancel upload';\n",
              "  const cancelPromise = new Promise((resolve) => {\n",
              "    cancel.onclick = () => {\n",
              "      resolve(null);\n",
              "    };\n",
              "  });\n",
              "\n",
              "  // Wait for the user to pick the files.\n",
              "  const files = yield {\n",
              "    promise: Promise.race([pickedPromise, cancelPromise]),\n",
              "    response: {\n",
              "      action: 'starting',\n",
              "    }\n",
              "  };\n",
              "\n",
              "  cancel.remove();\n",
              "\n",
              "  // Disable the input element since further picks are not allowed.\n",
              "  inputElement.disabled = true;\n",
              "\n",
              "  if (!files) {\n",
              "    return {\n",
              "      response: {\n",
              "        action: 'complete',\n",
              "      }\n",
              "    };\n",
              "  }\n",
              "\n",
              "  for (const file of files) {\n",
              "    const li = document.createElement('li');\n",
              "    li.append(span(file.name, {fontWeight: 'bold'}));\n",
              "    li.append(span(\n",
              "        `(${file.type || 'n/a'}) - ${file.size} bytes, ` +\n",
              "        `last modified: ${\n",
              "            file.lastModifiedDate ? file.lastModifiedDate.toLocaleDateString() :\n",
              "                                    'n/a'} - `));\n",
              "    const percent = span('0% done');\n",
              "    li.appendChild(percent);\n",
              "\n",
              "    outputElement.appendChild(li);\n",
              "\n",
              "    const fileDataPromise = new Promise((resolve) => {\n",
              "      const reader = new FileReader();\n",
              "      reader.onload = (e) => {\n",
              "        resolve(e.target.result);\n",
              "      };\n",
              "      reader.readAsArrayBuffer(file);\n",
              "    });\n",
              "    // Wait for the data to be ready.\n",
              "    let fileData = yield {\n",
              "      promise: fileDataPromise,\n",
              "      response: {\n",
              "        action: 'continue',\n",
              "      }\n",
              "    };\n",
              "\n",
              "    // Use a chunked sending to avoid message size limits. See b/62115660.\n",
              "    let position = 0;\n",
              "    do {\n",
              "      const length = Math.min(fileData.byteLength - position, MAX_PAYLOAD_SIZE);\n",
              "      const chunk = new Uint8Array(fileData, position, length);\n",
              "      position += length;\n",
              "\n",
              "      const base64 = btoa(String.fromCharCode.apply(null, chunk));\n",
              "      yield {\n",
              "        response: {\n",
              "          action: 'append',\n",
              "          file: file.name,\n",
              "          data: base64,\n",
              "        },\n",
              "      };\n",
              "\n",
              "      let percentDone = fileData.byteLength === 0 ?\n",
              "          100 :\n",
              "          Math.round((position / fileData.byteLength) * 100);\n",
              "      percent.textContent = `${percentDone}% done`;\n",
              "\n",
              "    } while (position < fileData.byteLength);\n",
              "  }\n",
              "\n",
              "  // All done.\n",
              "  yield {\n",
              "    response: {\n",
              "      action: 'complete',\n",
              "    }\n",
              "  };\n",
              "}\n",
              "\n",
              "scope.google = scope.google || {};\n",
              "scope.google.colab = scope.google.colab || {};\n",
              "scope.google.colab._files = {\n",
              "  _uploadFiles,\n",
              "  _uploadFilesContinue,\n",
              "};\n",
              "})(self);\n",
              "</script> "
            ]
          },
          "metadata": {}
        },
        {
          "output_type": "stream",
          "name": "stdout",
          "text": [
            "Saving day_wise.csv to day_wise.csv\n"
          ]
        }
      ],
      "source": [
        "from google.colab import files\n",
        "uploaded = files.upload()"
      ]
    },
    {
      "cell_type": "code",
      "source": [
        "# Step 1: Import SparkSession\n",
        "from pyspark.sql import SparkSession\n",
        "\n",
        "# Step 2: Start Spark session\n",
        "spark = SparkSession.builder.appName(\"Agg\").getOrCreate()"
      ],
      "metadata": {
        "id": "P63BdUMNoiFZ"
      },
      "execution_count": 5,
      "outputs": []
    },
    {
      "cell_type": "code",
      "source": [
        "# Step 3: Read the CSV file\n",
        "df = spark.read.csv(\"day_wise.csv\", header=True, inferSchema=True)"
      ],
      "metadata": {
        "id": "_gEJhjYfo14T"
      },
      "execution_count": 6,
      "outputs": []
    },
    {
      "cell_type": "code",
      "source": [
        "df.show()"
      ],
      "metadata": {
        "colab": {
          "base_uri": "https://localhost:8080/"
        },
        "id": "3BpUvHgRo5tR",
        "outputId": "504760f6-1ca3-49ff-8658-619e893e0ca8"
      },
      "execution_count": 7,
      "outputs": [
        {
          "output_type": "stream",
          "name": "stdout",
          "text": [
            "+----------+---------+------+---------+------+---------+----------+-------------+------------------+---------------------+----------------------+----------------+\n",
            "|      Date|Confirmed|Deaths|Recovered|Active|New cases|New deaths|New recovered|Deaths / 100 Cases|Recovered / 100 Cases|Deaths / 100 Recovered|No. of countries|\n",
            "+----------+---------+------+---------+------+---------+----------+-------------+------------------+---------------------+----------------------+----------------+\n",
            "|2020-01-22|      555|    17|       28|   510|        0|         0|            0|              3.06|                 5.05|                 60.71|               6|\n",
            "|2020-01-23|      654|    18|       30|   606|       99|         1|            2|              2.75|                 4.59|                  60.0|               8|\n",
            "|2020-01-24|      941|    26|       36|   879|      287|         8|            6|              2.76|                 3.83|                 72.22|               9|\n",
            "|2020-01-25|     1434|    42|       39|  1353|      493|        16|            3|              2.93|                 2.72|                107.69|              11|\n",
            "|2020-01-26|     2118|    56|       52|  2010|      684|        14|           13|              2.64|                 2.46|                107.69|              13|\n",
            "|2020-01-27|     2927|    82|       61|  2784|      809|        26|            9|               2.8|                 2.08|                134.43|              16|\n",
            "|2020-01-28|     5578|   131|      107|  5340|     2651|        49|           46|              2.35|                 1.92|                122.43|              16|\n",
            "|2020-01-29|     6166|   133|      125|  5908|      588|         2|           18|              2.16|                 2.03|                 106.4|              18|\n",
            "|2020-01-30|     8234|   171|      141|  7922|     2068|        38|           16|              2.08|                 1.71|                121.28|              20|\n",
            "|2020-01-31|     9927|   213|      219|  9495|     1693|        42|           78|              2.15|                 2.21|                 97.26|              24|\n",
            "|2020-02-01|    12038|   259|      281| 11498|     2111|        46|           62|              2.15|                 2.33|                 92.17|              25|\n",
            "|2020-02-02|    16787|   362|      459| 15966|     4749|       103|          178|              2.16|                 2.73|                 78.87|              25|\n",
            "|2020-02-03|    19887|   426|      604| 18857|     3100|        64|          145|              2.14|                 3.04|                 70.53|              25|\n",
            "|2020-02-04|    23898|   492|      821| 22585|     4011|        66|          217|              2.06|                 3.44|                 59.93|              26|\n",
            "|2020-02-05|    27643|   564|     1071| 26008|     3745|        72|          250|              2.04|                 3.87|                 52.66|              26|\n",
            "|2020-02-06|    30802|   634|     1418| 28750|     3159|        70|          347|              2.06|                  4.6|                 44.71|              26|\n",
            "|2020-02-07|    34334|   719|     1903| 31712|     3532|        85|          485|              2.09|                 5.54|                 37.78|              26|\n",
            "|2020-02-08|    37068|   806|     2470| 33792|     2734|        87|          567|              2.17|                 6.66|                 32.63|              26|\n",
            "|2020-02-09|    40095|   906|     3057| 36132|     3027|       100|          587|              2.26|                 7.62|                 29.64|              26|\n",
            "|2020-02-10|    42633|  1013|     3714| 37906|     2538|       107|          657|              2.38|                 8.71|                 27.28|              26|\n",
            "+----------+---------+------+---------+------+---------+----------+-------------+------------------+---------------------+----------------------+----------------+\n",
            "only showing top 20 rows\n",
            "\n"
          ]
        }
      ]
    },
    {
      "cell_type": "code",
      "source": [
        "#GroupBy\n",
        "df.groupBy().sum('deaths').show()\n"
      ],
      "metadata": {
        "colab": {
          "base_uri": "https://localhost:8080/"
        },
        "id": "0M6AxzS8o9sU",
        "outputId": "0c002372-431d-4831-8177-f942365d9ae8"
      },
      "execution_count": 17,
      "outputs": [
        {
          "output_type": "stream",
          "name": "stdout",
          "text": [
            "+-----------+\n",
            "|sum(deaths)|\n",
            "+-----------+\n",
            "|   43384903|\n",
            "+-----------+\n",
            "\n"
          ]
        }
      ]
    },
    {
      "cell_type": "code",
      "source": [
        "df.groupBy('deaths').sum('confirmed').show()\n"
      ],
      "metadata": {
        "colab": {
          "base_uri": "https://localhost:8080/"
        },
        "id": "Uf1fN-2PpZhv",
        "outputId": "9addef92-a9bd-4436-c77d-67eca11f9581"
      },
      "execution_count": 18,
      "outputs": [
        {
          "output_type": "stream",
          "name": "stdout",
          "text": [
            "+------+--------------+\n",
            "|deaths|sum(confirmed)|\n",
            "+------+--------------+\n",
            "|157481|       2250439|\n",
            "|589760|      13812525|\n",
            "|381497|       6401536|\n",
            "|   133|          6166|\n",
            "|  8845|        218343|\n",
            "| 68160|       1192586|\n",
            "|   362|         16787|\n",
            "|616557|      14947078|\n",
            "|639650|      15791645|\n",
            "|173965|       2478258|\n",
            "|412236|       7253492|\n",
            "|392218|       6647861|\n",
            "|549373|      12044836|\n",
            "|606159|      14506845|\n",
            "|  2467|         78290|\n",
            "|132996|       1985174|\n",
            "|    26|           941|\n",
            "|434124|       7924156|\n",
            "|  5823|        157114|\n",
            "|334112|       5110064|\n",
            "+------+--------------+\n",
            "only showing top 20 rows\n",
            "\n"
          ]
        }
      ]
    },
    {
      "cell_type": "code",
      "source": [
        "df.groupBy('deaths').count().show()"
      ],
      "metadata": {
        "colab": {
          "base_uri": "https://localhost:8080/"
        },
        "id": "Y4xfpb2TrKsq",
        "outputId": "26175e91-1347-4729-8b94-4d4af53158f9"
      },
      "execution_count": 19,
      "outputs": [
        {
          "output_type": "stream",
          "name": "stdout",
          "text": [
            "+------+-----+\n",
            "|deaths|count|\n",
            "+------+-----+\n",
            "|157481|    1|\n",
            "|589760|    1|\n",
            "|381497|    1|\n",
            "|   133|    1|\n",
            "|  8845|    1|\n",
            "| 68160|    1|\n",
            "|   362|    1|\n",
            "|616557|    1|\n",
            "|639650|    1|\n",
            "|173965|    1|\n",
            "|412236|    1|\n",
            "|392218|    1|\n",
            "|549373|    1|\n",
            "|606159|    1|\n",
            "|  2467|    1|\n",
            "|132996|    1|\n",
            "|    26|    1|\n",
            "|434124|    1|\n",
            "|  5823|    1|\n",
            "|334112|    1|\n",
            "+------+-----+\n",
            "only showing top 20 rows\n",
            "\n"
          ]
        }
      ]
    },
    {
      "cell_type": "code",
      "source": [
        "df.groupBy('deaths').max('confirmed').show()"
      ],
      "metadata": {
        "colab": {
          "base_uri": "https://localhost:8080/"
        },
        "id": "HdxrXa-4rQ3n",
        "outputId": "7c697511-32ef-48f4-8451-76f5faeff71d"
      },
      "execution_count": 20,
      "outputs": [
        {
          "output_type": "stream",
          "name": "stdout",
          "text": [
            "+------+--------------+\n",
            "|deaths|max(confirmed)|\n",
            "+------+--------------+\n",
            "|157481|       2250439|\n",
            "|589760|      13812525|\n",
            "|381497|       6401536|\n",
            "|   133|          6166|\n",
            "|  8845|        218343|\n",
            "| 68160|       1192586|\n",
            "|   362|         16787|\n",
            "|616557|      14947078|\n",
            "|639650|      15791645|\n",
            "|173965|       2478258|\n",
            "|412236|       7253492|\n",
            "|392218|       6647861|\n",
            "|549373|      12044836|\n",
            "|606159|      14506845|\n",
            "|  2467|         78290|\n",
            "|132996|       1985174|\n",
            "|    26|           941|\n",
            "|434124|       7924156|\n",
            "|  5823|        157114|\n",
            "|334112|       5110064|\n",
            "+------+--------------+\n",
            "only showing top 20 rows\n",
            "\n"
          ]
        }
      ]
    },
    {
      "cell_type": "code",
      "source": [
        "df.groupBy('deaths').min('confirmed').show()"
      ],
      "metadata": {
        "colab": {
          "base_uri": "https://localhost:8080/"
        },
        "id": "oM4tiNXJrb0Z",
        "outputId": "e256273e-c057-4852-f9f6-1c3f562351e3"
      },
      "execution_count": 21,
      "outputs": [
        {
          "output_type": "stream",
          "name": "stdout",
          "text": [
            "+------+--------------+\n",
            "|deaths|min(confirmed)|\n",
            "+------+--------------+\n",
            "|157481|       2250439|\n",
            "|589760|      13812525|\n",
            "|381497|       6401536|\n",
            "|   133|          6166|\n",
            "|  8845|        218343|\n",
            "| 68160|       1192586|\n",
            "|   362|         16787|\n",
            "|616557|      14947078|\n",
            "|639650|      15791645|\n",
            "|173965|       2478258|\n",
            "|412236|       7253492|\n",
            "|392218|       6647861|\n",
            "|549373|      12044836|\n",
            "|606159|      14506845|\n",
            "|  2467|         78290|\n",
            "|132996|       1985174|\n",
            "|    26|           941|\n",
            "|434124|       7924156|\n",
            "|  5823|        157114|\n",
            "|334112|       5110064|\n",
            "+------+--------------+\n",
            "only showing top 20 rows\n",
            "\n"
          ]
        }
      ]
    },
    {
      "cell_type": "code",
      "source": [],
      "metadata": {
        "id": "PUqpL5uRrpmt"
      },
      "execution_count": null,
      "outputs": []
    }
  ]
}