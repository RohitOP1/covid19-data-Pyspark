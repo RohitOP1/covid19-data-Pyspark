{
  "nbformat": 4,
  "nbformat_minor": 0,
  "metadata": {
    "colab": {
      "provenance": []
    },
    "kernelspec": {
      "name": "python3",
      "display_name": "Python 3"
    },
    "language_info": {
      "name": "python"
    }
  },
  "cells": [
    {
      "cell_type": "code",
      "execution_count": 1,
      "metadata": {
        "colab": {
          "base_uri": "https://localhost:8080/",
          "height": 253
        },
        "id": "iZhjUnc1daGx",
        "outputId": "9421e754-9a87-4d1c-ad9a-2505a3ab374b"
      },
      "outputs": [
        {
          "output_type": "display_data",
          "data": {
            "text/plain": [
              "<IPython.core.display.HTML object>"
            ],
            "text/html": [
              "\n",
              "     <input type=\"file\" id=\"files-05511802-a5cf-4eb3-9dc8-111a5ff08424\" name=\"files[]\" multiple disabled\n",
              "        style=\"border:none\" />\n",
              "     <output id=\"result-05511802-a5cf-4eb3-9dc8-111a5ff08424\">\n",
              "      Upload widget is only available when the cell has been executed in the\n",
              "      current browser session. Please rerun this cell to enable.\n",
              "      </output>\n",
              "      <script>// Copyright 2017 Google LLC\n",
              "//\n",
              "// Licensed under the Apache License, Version 2.0 (the \"License\");\n",
              "// you may not use this file except in compliance with the License.\n",
              "// You may obtain a copy of the License at\n",
              "//\n",
              "//      http://www.apache.org/licenses/LICENSE-2.0\n",
              "//\n",
              "// Unless required by applicable law or agreed to in writing, software\n",
              "// distributed under the License is distributed on an \"AS IS\" BASIS,\n",
              "// WITHOUT WARRANTIES OR CONDITIONS OF ANY KIND, either express or implied.\n",
              "// See the License for the specific language governing permissions and\n",
              "// limitations under the License.\n",
              "\n",
              "/**\n",
              " * @fileoverview Helpers for google.colab Python module.\n",
              " */\n",
              "(function(scope) {\n",
              "function span(text, styleAttributes = {}) {\n",
              "  const element = document.createElement('span');\n",
              "  element.textContent = text;\n",
              "  for (const key of Object.keys(styleAttributes)) {\n",
              "    element.style[key] = styleAttributes[key];\n",
              "  }\n",
              "  return element;\n",
              "}\n",
              "\n",
              "// Max number of bytes which will be uploaded at a time.\n",
              "const MAX_PAYLOAD_SIZE = 100 * 1024;\n",
              "\n",
              "function _uploadFiles(inputId, outputId) {\n",
              "  const steps = uploadFilesStep(inputId, outputId);\n",
              "  const outputElement = document.getElementById(outputId);\n",
              "  // Cache steps on the outputElement to make it available for the next call\n",
              "  // to uploadFilesContinue from Python.\n",
              "  outputElement.steps = steps;\n",
              "\n",
              "  return _uploadFilesContinue(outputId);\n",
              "}\n",
              "\n",
              "// This is roughly an async generator (not supported in the browser yet),\n",
              "// where there are multiple asynchronous steps and the Python side is going\n",
              "// to poll for completion of each step.\n",
              "// This uses a Promise to block the python side on completion of each step,\n",
              "// then passes the result of the previous step as the input to the next step.\n",
              "function _uploadFilesContinue(outputId) {\n",
              "  const outputElement = document.getElementById(outputId);\n",
              "  const steps = outputElement.steps;\n",
              "\n",
              "  const next = steps.next(outputElement.lastPromiseValue);\n",
              "  return Promise.resolve(next.value.promise).then((value) => {\n",
              "    // Cache the last promise value to make it available to the next\n",
              "    // step of the generator.\n",
              "    outputElement.lastPromiseValue = value;\n",
              "    return next.value.response;\n",
              "  });\n",
              "}\n",
              "\n",
              "/**\n",
              " * Generator function which is called between each async step of the upload\n",
              " * process.\n",
              " * @param {string} inputId Element ID of the input file picker element.\n",
              " * @param {string} outputId Element ID of the output display.\n",
              " * @return {!Iterable<!Object>} Iterable of next steps.\n",
              " */\n",
              "function* uploadFilesStep(inputId, outputId) {\n",
              "  const inputElement = document.getElementById(inputId);\n",
              "  inputElement.disabled = false;\n",
              "\n",
              "  const outputElement = document.getElementById(outputId);\n",
              "  outputElement.innerHTML = '';\n",
              "\n",
              "  const pickedPromise = new Promise((resolve) => {\n",
              "    inputElement.addEventListener('change', (e) => {\n",
              "      resolve(e.target.files);\n",
              "    });\n",
              "  });\n",
              "\n",
              "  const cancel = document.createElement('button');\n",
              "  inputElement.parentElement.appendChild(cancel);\n",
              "  cancel.textContent = 'Cancel upload';\n",
              "  const cancelPromise = new Promise((resolve) => {\n",
              "    cancel.onclick = () => {\n",
              "      resolve(null);\n",
              "    };\n",
              "  });\n",
              "\n",
              "  // Wait for the user to pick the files.\n",
              "  const files = yield {\n",
              "    promise: Promise.race([pickedPromise, cancelPromise]),\n",
              "    response: {\n",
              "      action: 'starting',\n",
              "    }\n",
              "  };\n",
              "\n",
              "  cancel.remove();\n",
              "\n",
              "  // Disable the input element since further picks are not allowed.\n",
              "  inputElement.disabled = true;\n",
              "\n",
              "  if (!files) {\n",
              "    return {\n",
              "      response: {\n",
              "        action: 'complete',\n",
              "      }\n",
              "    };\n",
              "  }\n",
              "\n",
              "  for (const file of files) {\n",
              "    const li = document.createElement('li');\n",
              "    li.append(span(file.name, {fontWeight: 'bold'}));\n",
              "    li.append(span(\n",
              "        `(${file.type || 'n/a'}) - ${file.size} bytes, ` +\n",
              "        `last modified: ${\n",
              "            file.lastModifiedDate ? file.lastModifiedDate.toLocaleDateString() :\n",
              "                                    'n/a'} - `));\n",
              "    const percent = span('0% done');\n",
              "    li.appendChild(percent);\n",
              "\n",
              "    outputElement.appendChild(li);\n",
              "\n",
              "    const fileDataPromise = new Promise((resolve) => {\n",
              "      const reader = new FileReader();\n",
              "      reader.onload = (e) => {\n",
              "        resolve(e.target.result);\n",
              "      };\n",
              "      reader.readAsArrayBuffer(file);\n",
              "    });\n",
              "    // Wait for the data to be ready.\n",
              "    let fileData = yield {\n",
              "      promise: fileDataPromise,\n",
              "      response: {\n",
              "        action: 'continue',\n",
              "      }\n",
              "    };\n",
              "\n",
              "    // Use a chunked sending to avoid message size limits. See b/62115660.\n",
              "    let position = 0;\n",
              "    do {\n",
              "      const length = Math.min(fileData.byteLength - position, MAX_PAYLOAD_SIZE);\n",
              "      const chunk = new Uint8Array(fileData, position, length);\n",
              "      position += length;\n",
              "\n",
              "      const base64 = btoa(String.fromCharCode.apply(null, chunk));\n",
              "      yield {\n",
              "        response: {\n",
              "          action: 'append',\n",
              "          file: file.name,\n",
              "          data: base64,\n",
              "        },\n",
              "      };\n",
              "\n",
              "      let percentDone = fileData.byteLength === 0 ?\n",
              "          100 :\n",
              "          Math.round((position / fileData.byteLength) * 100);\n",
              "      percent.textContent = `${percentDone}% done`;\n",
              "\n",
              "    } while (position < fileData.byteLength);\n",
              "  }\n",
              "\n",
              "  // All done.\n",
              "  yield {\n",
              "    response: {\n",
              "      action: 'complete',\n",
              "    }\n",
              "  };\n",
              "}\n",
              "\n",
              "scope.google = scope.google || {};\n",
              "scope.google.colab = scope.google.colab || {};\n",
              "scope.google.colab._files = {\n",
              "  _uploadFiles,\n",
              "  _uploadFilesContinue,\n",
              "};\n",
              "})(self);\n",
              "</script> "
            ]
          },
          "metadata": {}
        },
        {
          "output_type": "stream",
          "name": "stdout",
          "text": [
            "Saving country_wise_latest.csv to country_wise_latest.csv\n",
            "Saving covid_19_clean_complete.csv to covid_19_clean_complete.csv\n",
            "Saving day_wise.csv to day_wise.csv\n",
            "Saving full_grouped.csv to full_grouped.csv\n",
            "Saving usa_county_wise.csv to usa_county_wise.csv\n",
            "Saving worldometer_data.csv to worldometer_data.csv\n"
          ]
        }
      ],
      "source": [
        "from google.colab import files\n",
        "uploaded = files.upload()"
      ]
    },
    {
      "cell_type": "code",
      "source": [
        "# Step 1: Import SparkSession\n",
        "from pyspark.sql import SparkSession\n",
        "\n",
        "# Step 2: Start Spark session\n",
        "spark = SparkSession.builder.appName(\"Read CSV Example\").getOrCreate()"
      ],
      "metadata": {
        "id": "wiTp3llGdyKk"
      },
      "execution_count": 5,
      "outputs": []
    },
    {
      "cell_type": "code",
      "source": [
        "\n",
        "# Step 3: Read the CSV file\n",
        "df = spark.read.csv(\"covid_19_clean_complete.csv\", header=True, inferSchema=True)"
      ],
      "metadata": {
        "id": "DG9aBau5fN5Q"
      },
      "execution_count": 19,
      "outputs": []
    },
    {
      "cell_type": "code",
      "source": [
        "df.show()"
      ],
      "metadata": {
        "colab": {
          "base_uri": "https://localhost:8080/"
        },
        "id": "HdUfqagbgA-1",
        "outputId": "33113850-e6f3-4eb6-9dac-d3ef882ba7cc"
      },
      "execution_count": 20,
      "outputs": [
        {
          "output_type": "stream",
          "name": "stdout",
          "text": [
            "+--------------------+-------------------+---------+----------+----------+---------+------+---------+------+--------------------+\n",
            "|      Province/State|     Country/Region|      Lat|      Long|      Date|Confirmed|Deaths|Recovered|Active|          WHO Region|\n",
            "+--------------------+-------------------+---------+----------+----------+---------+------+---------+------+--------------------+\n",
            "|                NULL|        Afghanistan| 33.93911| 67.709953|2020-01-22|        0|     0|        0|     0|Eastern Mediterra...|\n",
            "|                NULL|            Albania|  41.1533|   20.1683|2020-01-22|        0|     0|        0|     0|              Europe|\n",
            "|                NULL|            Algeria|  28.0339|    1.6596|2020-01-22|        0|     0|        0|     0|              Africa|\n",
            "|                NULL|            Andorra|  42.5063|    1.5218|2020-01-22|        0|     0|        0|     0|              Europe|\n",
            "|                NULL|             Angola| -11.2027|   17.8739|2020-01-22|        0|     0|        0|     0|              Africa|\n",
            "|                NULL|Antigua and Barbuda|  17.0608|  -61.7964|2020-01-22|        0|     0|        0|     0|            Americas|\n",
            "|                NULL|          Argentina| -38.4161|  -63.6167|2020-01-22|        0|     0|        0|     0|            Americas|\n",
            "|                NULL|            Armenia|  40.0691|   45.0382|2020-01-22|        0|     0|        0|     0|              Europe|\n",
            "|Australian Capita...|          Australia| -35.4735|  149.0124|2020-01-22|        0|     0|        0|     0|     Western Pacific|\n",
            "|     New South Wales|          Australia| -33.8688|  151.2093|2020-01-22|        0|     0|        0|     0|     Western Pacific|\n",
            "|  Northern Territory|          Australia| -12.4634|  130.8456|2020-01-22|        0|     0|        0|     0|     Western Pacific|\n",
            "|          Queensland|          Australia| -27.4698|  153.0251|2020-01-22|        0|     0|        0|     0|     Western Pacific|\n",
            "|     South Australia|          Australia| -34.9285|  138.6007|2020-01-22|        0|     0|        0|     0|     Western Pacific|\n",
            "|            Tasmania|          Australia| -42.8821|  147.3272|2020-01-22|        0|     0|        0|     0|     Western Pacific|\n",
            "|            Victoria|          Australia| -37.8136|  144.9631|2020-01-22|        0|     0|        0|     0|     Western Pacific|\n",
            "|   Western Australia|          Australia| -31.9505|  115.8605|2020-01-22|        0|     0|        0|     0|     Western Pacific|\n",
            "|                NULL|            Austria|  47.5162|   14.5501|2020-01-22|        0|     0|        0|     0|              Europe|\n",
            "|                NULL|         Azerbaijan|  40.1431|   47.5769|2020-01-22|        0|     0|        0|     0|              Europe|\n",
            "|                NULL|            Bahamas|25.025885|-78.035889|2020-01-22|        0|     0|        0|     0|            Americas|\n",
            "|                NULL|            Bahrain|  26.0275|     50.55|2020-01-22|        0|     0|        0|     0|Eastern Mediterra...|\n",
            "+--------------------+-------------------+---------+----------+----------+---------+------+---------+------+--------------------+\n",
            "only showing top 20 rows\n",
            "\n"
          ]
        }
      ]
    },
    {
      "cell_type": "code",
      "source": [
        "df.drop('Date').show()"
      ],
      "metadata": {
        "colab": {
          "base_uri": "https://localhost:8080/"
        },
        "id": "Y8JqTfksgOR0",
        "outputId": "1e75d067-09ff-406d-98a9-011b6abd4165"
      },
      "execution_count": 23,
      "outputs": [
        {
          "output_type": "stream",
          "name": "stdout",
          "text": [
            "+--------------------+-------------------+---------+----------+---------+------+---------+------+--------------------+\n",
            "|      Province/State|     Country/Region|      Lat|      Long|Confirmed|Deaths|Recovered|Active|          WHO Region|\n",
            "+--------------------+-------------------+---------+----------+---------+------+---------+------+--------------------+\n",
            "|                NULL|        Afghanistan| 33.93911| 67.709953|        0|     0|        0|     0|Eastern Mediterra...|\n",
            "|                NULL|            Albania|  41.1533|   20.1683|        0|     0|        0|     0|              Europe|\n",
            "|                NULL|            Algeria|  28.0339|    1.6596|        0|     0|        0|     0|              Africa|\n",
            "|                NULL|            Andorra|  42.5063|    1.5218|        0|     0|        0|     0|              Europe|\n",
            "|                NULL|             Angola| -11.2027|   17.8739|        0|     0|        0|     0|              Africa|\n",
            "|                NULL|Antigua and Barbuda|  17.0608|  -61.7964|        0|     0|        0|     0|            Americas|\n",
            "|                NULL|          Argentina| -38.4161|  -63.6167|        0|     0|        0|     0|            Americas|\n",
            "|                NULL|            Armenia|  40.0691|   45.0382|        0|     0|        0|     0|              Europe|\n",
            "|Australian Capita...|          Australia| -35.4735|  149.0124|        0|     0|        0|     0|     Western Pacific|\n",
            "|     New South Wales|          Australia| -33.8688|  151.2093|        0|     0|        0|     0|     Western Pacific|\n",
            "|  Northern Territory|          Australia| -12.4634|  130.8456|        0|     0|        0|     0|     Western Pacific|\n",
            "|          Queensland|          Australia| -27.4698|  153.0251|        0|     0|        0|     0|     Western Pacific|\n",
            "|     South Australia|          Australia| -34.9285|  138.6007|        0|     0|        0|     0|     Western Pacific|\n",
            "|            Tasmania|          Australia| -42.8821|  147.3272|        0|     0|        0|     0|     Western Pacific|\n",
            "|            Victoria|          Australia| -37.8136|  144.9631|        0|     0|        0|     0|     Western Pacific|\n",
            "|   Western Australia|          Australia| -31.9505|  115.8605|        0|     0|        0|     0|     Western Pacific|\n",
            "|                NULL|            Austria|  47.5162|   14.5501|        0|     0|        0|     0|              Europe|\n",
            "|                NULL|         Azerbaijan|  40.1431|   47.5769|        0|     0|        0|     0|              Europe|\n",
            "|                NULL|            Bahamas|25.025885|-78.035889|        0|     0|        0|     0|            Americas|\n",
            "|                NULL|            Bahrain|  26.0275|     50.55|        0|     0|        0|     0|Eastern Mediterra...|\n",
            "+--------------------+-------------------+---------+----------+---------+------+---------+------+--------------------+\n",
            "only showing top 20 rows\n",
            "\n"
          ]
        }
      ]
    },
    {
      "cell_type": "code",
      "source": [
        "df.na.drop(subset=[\"date\"]).show()\n"
      ],
      "metadata": {
        "colab": {
          "base_uri": "https://localhost:8080/"
        },
        "id": "NMBjWqkkgX_r",
        "outputId": "83858593-a718-4619-be58-870574213985"
      },
      "execution_count": 24,
      "outputs": [
        {
          "output_type": "stream",
          "name": "stdout",
          "text": [
            "+--------------------+-------------------+---------+----------+----------+---------+------+---------+------+--------------------+\n",
            "|      Province/State|     Country/Region|      Lat|      Long|      Date|Confirmed|Deaths|Recovered|Active|          WHO Region|\n",
            "+--------------------+-------------------+---------+----------+----------+---------+------+---------+------+--------------------+\n",
            "|                NULL|        Afghanistan| 33.93911| 67.709953|2020-01-22|        0|     0|        0|     0|Eastern Mediterra...|\n",
            "|                NULL|            Albania|  41.1533|   20.1683|2020-01-22|        0|     0|        0|     0|              Europe|\n",
            "|                NULL|            Algeria|  28.0339|    1.6596|2020-01-22|        0|     0|        0|     0|              Africa|\n",
            "|                NULL|            Andorra|  42.5063|    1.5218|2020-01-22|        0|     0|        0|     0|              Europe|\n",
            "|                NULL|             Angola| -11.2027|   17.8739|2020-01-22|        0|     0|        0|     0|              Africa|\n",
            "|                NULL|Antigua and Barbuda|  17.0608|  -61.7964|2020-01-22|        0|     0|        0|     0|            Americas|\n",
            "|                NULL|          Argentina| -38.4161|  -63.6167|2020-01-22|        0|     0|        0|     0|            Americas|\n",
            "|                NULL|            Armenia|  40.0691|   45.0382|2020-01-22|        0|     0|        0|     0|              Europe|\n",
            "|Australian Capita...|          Australia| -35.4735|  149.0124|2020-01-22|        0|     0|        0|     0|     Western Pacific|\n",
            "|     New South Wales|          Australia| -33.8688|  151.2093|2020-01-22|        0|     0|        0|     0|     Western Pacific|\n",
            "|  Northern Territory|          Australia| -12.4634|  130.8456|2020-01-22|        0|     0|        0|     0|     Western Pacific|\n",
            "|          Queensland|          Australia| -27.4698|  153.0251|2020-01-22|        0|     0|        0|     0|     Western Pacific|\n",
            "|     South Australia|          Australia| -34.9285|  138.6007|2020-01-22|        0|     0|        0|     0|     Western Pacific|\n",
            "|            Tasmania|          Australia| -42.8821|  147.3272|2020-01-22|        0|     0|        0|     0|     Western Pacific|\n",
            "|            Victoria|          Australia| -37.8136|  144.9631|2020-01-22|        0|     0|        0|     0|     Western Pacific|\n",
            "|   Western Australia|          Australia| -31.9505|  115.8605|2020-01-22|        0|     0|        0|     0|     Western Pacific|\n",
            "|                NULL|            Austria|  47.5162|   14.5501|2020-01-22|        0|     0|        0|     0|              Europe|\n",
            "|                NULL|         Azerbaijan|  40.1431|   47.5769|2020-01-22|        0|     0|        0|     0|              Europe|\n",
            "|                NULL|            Bahamas|25.025885|-78.035889|2020-01-22|        0|     0|        0|     0|            Americas|\n",
            "|                NULL|            Bahrain|  26.0275|     50.55|2020-01-22|        0|     0|        0|     0|Eastern Mediterra...|\n",
            "+--------------------+-------------------+---------+----------+----------+---------+------+---------+------+--------------------+\n",
            "only showing top 20 rows\n",
            "\n"
          ]
        }
      ]
    },
    {
      "cell_type": "code",
      "source": [
        "\n",
        "# Clean all column names\n",
        "df = df.toDF(*[col.replace(\" \", \"_\").replace(\".\", \"_\").replace(\"/\", \"_\") for col in df.columns])\n"
      ],
      "metadata": {
        "id": "vbjwVzqZgc86"
      },
      "execution_count": 25,
      "outputs": []
    },
    {
      "cell_type": "code",
      "source": [
        "### any==how\n",
        "df.na.drop(how=\"any\").show()\n"
      ],
      "metadata": {
        "colab": {
          "base_uri": "https://localhost:8080/"
        },
        "id": "mFFal1cPhWSg",
        "outputId": "ba84fbd0-7acb-4efe-e192-3ee95414b33b"
      },
      "execution_count": 26,
      "outputs": [
        {
          "output_type": "stream",
          "name": "stdout",
          "text": [
            "+--------------------+--------------+------------------+---------+----------+---------+------+---------+------+---------------+\n",
            "|      Province_State|Country_Region|               Lat|     Long|      Date|Confirmed|Deaths|Recovered|Active|     WHO_Region|\n",
            "+--------------------+--------------+------------------+---------+----------+---------+------+---------+------+---------------+\n",
            "|Australian Capita...|     Australia|          -35.4735| 149.0124|2020-01-22|        0|     0|        0|     0|Western Pacific|\n",
            "|     New South Wales|     Australia|          -33.8688| 151.2093|2020-01-22|        0|     0|        0|     0|Western Pacific|\n",
            "|  Northern Territory|     Australia|          -12.4634| 130.8456|2020-01-22|        0|     0|        0|     0|Western Pacific|\n",
            "|          Queensland|     Australia|          -27.4698| 153.0251|2020-01-22|        0|     0|        0|     0|Western Pacific|\n",
            "|     South Australia|     Australia|          -34.9285| 138.6007|2020-01-22|        0|     0|        0|     0|Western Pacific|\n",
            "|            Tasmania|     Australia|          -42.8821| 147.3272|2020-01-22|        0|     0|        0|     0|Western Pacific|\n",
            "|            Victoria|     Australia|          -37.8136| 144.9631|2020-01-22|        0|     0|        0|     0|Western Pacific|\n",
            "|   Western Australia|     Australia|          -31.9505| 115.8605|2020-01-22|        0|     0|        0|     0|Western Pacific|\n",
            "|             Alberta|        Canada|           53.9333|-116.5765|2020-01-22|        0|     0|        0|     0|       Americas|\n",
            "|    British Columbia|        Canada|           53.7267|-127.6476|2020-01-22|        0|     0|        0|     0|       Americas|\n",
            "|            Manitoba|        Canada|           53.7609| -98.8139|2020-01-22|        0|     0|        0|     0|       Americas|\n",
            "|       New Brunswick|        Canada|           46.5653| -66.4619|2020-01-22|        0|     0|        0|     0|       Americas|\n",
            "|Newfoundland and ...|        Canada|           53.1355| -57.6604|2020-01-22|        0|     0|        0|     0|       Americas|\n",
            "|         Nova Scotia|        Canada|44.681999999999995| -63.7443|2020-01-22|        0|     0|        0|     0|       Americas|\n",
            "|             Ontario|        Canada|           51.2538| -85.3232|2020-01-22|        0|     0|        0|     0|       Americas|\n",
            "|Prince Edward Island|        Canada|           46.5107| -63.4168|2020-01-22|        0|     0|        0|     0|       Americas|\n",
            "|              Quebec|        Canada|           52.9399| -73.5491|2020-01-22|        0|     0|        0|     0|       Americas|\n",
            "|        Saskatchewan|        Canada|           52.9399|-106.4509|2020-01-22|        0|     0|        0|     0|       Americas|\n",
            "|               Anhui|         China|           31.8257| 117.2264|2020-01-22|        1|     0|        0|     1|Western Pacific|\n",
            "|             Beijing|         China|           40.1824| 116.4142|2020-01-22|       14|     0|        0|    14|Western Pacific|\n",
            "+--------------------+--------------+------------------+---------+----------+---------+------+---------+------+---------------+\n",
            "only showing top 20 rows\n",
            "\n"
          ]
        }
      ]
    },
    {
      "cell_type": "code",
      "source": [
        "#threshold\n",
        "df.na.drop(how=\"any\",thresh=2).show() #if there are two/more null values in row ,the row will get deleted"
      ],
      "metadata": {
        "colab": {
          "base_uri": "https://localhost:8080/"
        },
        "id": "cnZXIChdhkSJ",
        "outputId": "501ca763-c4a5-447e-bf4e-d947fd14b265"
      },
      "execution_count": 27,
      "outputs": [
        {
          "output_type": "stream",
          "name": "stdout",
          "text": [
            "+--------------------+-------------------+---------+----------+----------+---------+------+---------+------+--------------------+\n",
            "|      Province_State|     Country_Region|      Lat|      Long|      Date|Confirmed|Deaths|Recovered|Active|          WHO_Region|\n",
            "+--------------------+-------------------+---------+----------+----------+---------+------+---------+------+--------------------+\n",
            "|                NULL|        Afghanistan| 33.93911| 67.709953|2020-01-22|        0|     0|        0|     0|Eastern Mediterra...|\n",
            "|                NULL|            Albania|  41.1533|   20.1683|2020-01-22|        0|     0|        0|     0|              Europe|\n",
            "|                NULL|            Algeria|  28.0339|    1.6596|2020-01-22|        0|     0|        0|     0|              Africa|\n",
            "|                NULL|            Andorra|  42.5063|    1.5218|2020-01-22|        0|     0|        0|     0|              Europe|\n",
            "|                NULL|             Angola| -11.2027|   17.8739|2020-01-22|        0|     0|        0|     0|              Africa|\n",
            "|                NULL|Antigua and Barbuda|  17.0608|  -61.7964|2020-01-22|        0|     0|        0|     0|            Americas|\n",
            "|                NULL|          Argentina| -38.4161|  -63.6167|2020-01-22|        0|     0|        0|     0|            Americas|\n",
            "|                NULL|            Armenia|  40.0691|   45.0382|2020-01-22|        0|     0|        0|     0|              Europe|\n",
            "|Australian Capita...|          Australia| -35.4735|  149.0124|2020-01-22|        0|     0|        0|     0|     Western Pacific|\n",
            "|     New South Wales|          Australia| -33.8688|  151.2093|2020-01-22|        0|     0|        0|     0|     Western Pacific|\n",
            "|  Northern Territory|          Australia| -12.4634|  130.8456|2020-01-22|        0|     0|        0|     0|     Western Pacific|\n",
            "|          Queensland|          Australia| -27.4698|  153.0251|2020-01-22|        0|     0|        0|     0|     Western Pacific|\n",
            "|     South Australia|          Australia| -34.9285|  138.6007|2020-01-22|        0|     0|        0|     0|     Western Pacific|\n",
            "|            Tasmania|          Australia| -42.8821|  147.3272|2020-01-22|        0|     0|        0|     0|     Western Pacific|\n",
            "|            Victoria|          Australia| -37.8136|  144.9631|2020-01-22|        0|     0|        0|     0|     Western Pacific|\n",
            "|   Western Australia|          Australia| -31.9505|  115.8605|2020-01-22|        0|     0|        0|     0|     Western Pacific|\n",
            "|                NULL|            Austria|  47.5162|   14.5501|2020-01-22|        0|     0|        0|     0|              Europe|\n",
            "|                NULL|         Azerbaijan|  40.1431|   47.5769|2020-01-22|        0|     0|        0|     0|              Europe|\n",
            "|                NULL|            Bahamas|25.025885|-78.035889|2020-01-22|        0|     0|        0|     0|            Americas|\n",
            "|                NULL|            Bahrain|  26.0275|     50.55|2020-01-22|        0|     0|        0|     0|Eastern Mediterra...|\n",
            "+--------------------+-------------------+---------+----------+----------+---------+------+---------+------+--------------------+\n",
            "only showing top 20 rows\n",
            "\n"
          ]
        }
      ]
    },
    {
      "cell_type": "code",
      "source": [
        "df.na.fill(\"Missing Values\").show() #replaces null values"
      ],
      "metadata": {
        "colab": {
          "base_uri": "https://localhost:8080/"
        },
        "id": "Ypguw_OThzJ4",
        "outputId": "a0c1e9a1-5dbb-4f95-ac0d-8801cd1d0f02"
      },
      "execution_count": 28,
      "outputs": [
        {
          "output_type": "stream",
          "name": "stdout",
          "text": [
            "+--------------------+-------------------+---------+----------+----------+---------+------+---------+------+--------------------+\n",
            "|      Province_State|     Country_Region|      Lat|      Long|      Date|Confirmed|Deaths|Recovered|Active|          WHO_Region|\n",
            "+--------------------+-------------------+---------+----------+----------+---------+------+---------+------+--------------------+\n",
            "|      Missing Values|        Afghanistan| 33.93911| 67.709953|2020-01-22|        0|     0|        0|     0|Eastern Mediterra...|\n",
            "|      Missing Values|            Albania|  41.1533|   20.1683|2020-01-22|        0|     0|        0|     0|              Europe|\n",
            "|      Missing Values|            Algeria|  28.0339|    1.6596|2020-01-22|        0|     0|        0|     0|              Africa|\n",
            "|      Missing Values|            Andorra|  42.5063|    1.5218|2020-01-22|        0|     0|        0|     0|              Europe|\n",
            "|      Missing Values|             Angola| -11.2027|   17.8739|2020-01-22|        0|     0|        0|     0|              Africa|\n",
            "|      Missing Values|Antigua and Barbuda|  17.0608|  -61.7964|2020-01-22|        0|     0|        0|     0|            Americas|\n",
            "|      Missing Values|          Argentina| -38.4161|  -63.6167|2020-01-22|        0|     0|        0|     0|            Americas|\n",
            "|      Missing Values|            Armenia|  40.0691|   45.0382|2020-01-22|        0|     0|        0|     0|              Europe|\n",
            "|Australian Capita...|          Australia| -35.4735|  149.0124|2020-01-22|        0|     0|        0|     0|     Western Pacific|\n",
            "|     New South Wales|          Australia| -33.8688|  151.2093|2020-01-22|        0|     0|        0|     0|     Western Pacific|\n",
            "|  Northern Territory|          Australia| -12.4634|  130.8456|2020-01-22|        0|     0|        0|     0|     Western Pacific|\n",
            "|          Queensland|          Australia| -27.4698|  153.0251|2020-01-22|        0|     0|        0|     0|     Western Pacific|\n",
            "|     South Australia|          Australia| -34.9285|  138.6007|2020-01-22|        0|     0|        0|     0|     Western Pacific|\n",
            "|            Tasmania|          Australia| -42.8821|  147.3272|2020-01-22|        0|     0|        0|     0|     Western Pacific|\n",
            "|            Victoria|          Australia| -37.8136|  144.9631|2020-01-22|        0|     0|        0|     0|     Western Pacific|\n",
            "|   Western Australia|          Australia| -31.9505|  115.8605|2020-01-22|        0|     0|        0|     0|     Western Pacific|\n",
            "|      Missing Values|            Austria|  47.5162|   14.5501|2020-01-22|        0|     0|        0|     0|              Europe|\n",
            "|      Missing Values|         Azerbaijan|  40.1431|   47.5769|2020-01-22|        0|     0|        0|     0|              Europe|\n",
            "|      Missing Values|            Bahamas|25.025885|-78.035889|2020-01-22|        0|     0|        0|     0|            Americas|\n",
            "|      Missing Values|            Bahrain|  26.0275|     50.55|2020-01-22|        0|     0|        0|     0|Eastern Mediterra...|\n",
            "+--------------------+-------------------+---------+----------+----------+---------+------+---------+------+--------------------+\n",
            "only showing top 20 rows\n",
            "\n"
          ]
        }
      ]
    },
    {
      "cell_type": "code",
      "source": [
        "#imputer function\n",
        "from pyspark.ml.feature import Imputer\n",
        "\n",
        "# Example: Let's say you want to fill missing values in 'Lat' and 'Long' columns\n",
        "imputer = Imputer(\n",
        "    inputCols=[\"Lat\", \"Long\"],            # columns with missing values\n",
        "    outputCols=[\"Lat_imputed\", \"Long_imputed\"]  # new column names for output\n",
        ").setStrategy(\"mean\")  # or \"median\"\n",
        "\n",
        "# Apply the imputer\n",
        "df_imputed = imputer.fit(df).transform(df)\n",
        "\n",
        "df_imputed.show()\n"
      ],
      "metadata": {
        "colab": {
          "base_uri": "https://localhost:8080/"
        },
        "id": "1DCeJv11iPs8",
        "outputId": "9b5b45bd-2a4f-4e77-df5f-f71af5279d1c"
      },
      "execution_count": 30,
      "outputs": [
        {
          "output_type": "stream",
          "name": "stdout",
          "text": [
            "+--------------------+-------------------+---------+----------+----------+---------+------+---------+------+--------------------+-----------+------------+\n",
            "|      Province_State|     Country_Region|      Lat|      Long|      Date|Confirmed|Deaths|Recovered|Active|          WHO_Region|Lat_imputed|Long_imputed|\n",
            "+--------------------+-------------------+---------+----------+----------+---------+------+---------+------+--------------------+-----------+------------+\n",
            "|                NULL|        Afghanistan| 33.93911| 67.709953|2020-01-22|        0|     0|        0|     0|Eastern Mediterra...|   33.93911|   67.709953|\n",
            "|                NULL|            Albania|  41.1533|   20.1683|2020-01-22|        0|     0|        0|     0|              Europe|    41.1533|     20.1683|\n",
            "|                NULL|            Algeria|  28.0339|    1.6596|2020-01-22|        0|     0|        0|     0|              Africa|    28.0339|      1.6596|\n",
            "|                NULL|            Andorra|  42.5063|    1.5218|2020-01-22|        0|     0|        0|     0|              Europe|    42.5063|      1.5218|\n",
            "|                NULL|             Angola| -11.2027|   17.8739|2020-01-22|        0|     0|        0|     0|              Africa|   -11.2027|     17.8739|\n",
            "|                NULL|Antigua and Barbuda|  17.0608|  -61.7964|2020-01-22|        0|     0|        0|     0|            Americas|    17.0608|    -61.7964|\n",
            "|                NULL|          Argentina| -38.4161|  -63.6167|2020-01-22|        0|     0|        0|     0|            Americas|   -38.4161|    -63.6167|\n",
            "|                NULL|            Armenia|  40.0691|   45.0382|2020-01-22|        0|     0|        0|     0|              Europe|    40.0691|     45.0382|\n",
            "|Australian Capita...|          Australia| -35.4735|  149.0124|2020-01-22|        0|     0|        0|     0|     Western Pacific|   -35.4735|    149.0124|\n",
            "|     New South Wales|          Australia| -33.8688|  151.2093|2020-01-22|        0|     0|        0|     0|     Western Pacific|   -33.8688|    151.2093|\n",
            "|  Northern Territory|          Australia| -12.4634|  130.8456|2020-01-22|        0|     0|        0|     0|     Western Pacific|   -12.4634|    130.8456|\n",
            "|          Queensland|          Australia| -27.4698|  153.0251|2020-01-22|        0|     0|        0|     0|     Western Pacific|   -27.4698|    153.0251|\n",
            "|     South Australia|          Australia| -34.9285|  138.6007|2020-01-22|        0|     0|        0|     0|     Western Pacific|   -34.9285|    138.6007|\n",
            "|            Tasmania|          Australia| -42.8821|  147.3272|2020-01-22|        0|     0|        0|     0|     Western Pacific|   -42.8821|    147.3272|\n",
            "|            Victoria|          Australia| -37.8136|  144.9631|2020-01-22|        0|     0|        0|     0|     Western Pacific|   -37.8136|    144.9631|\n",
            "|   Western Australia|          Australia| -31.9505|  115.8605|2020-01-22|        0|     0|        0|     0|     Western Pacific|   -31.9505|    115.8605|\n",
            "|                NULL|            Austria|  47.5162|   14.5501|2020-01-22|        0|     0|        0|     0|              Europe|    47.5162|     14.5501|\n",
            "|                NULL|         Azerbaijan|  40.1431|   47.5769|2020-01-22|        0|     0|        0|     0|              Europe|    40.1431|     47.5769|\n",
            "|                NULL|            Bahamas|25.025885|-78.035889|2020-01-22|        0|     0|        0|     0|            Americas|  25.025885|  -78.035889|\n",
            "|                NULL|            Bahrain|  26.0275|     50.55|2020-01-22|        0|     0|        0|     0|Eastern Mediterra...|    26.0275|       50.55|\n",
            "+--------------------+-------------------+---------+----------+----------+---------+------+---------+------+--------------------+-----------+------------+\n",
            "only showing top 20 rows\n",
            "\n"
          ]
        }
      ]
    },
    {
      "cell_type": "code",
      "source": [],
      "metadata": {
        "id": "hbE_zr1lj9uE"
      },
      "execution_count": null,
      "outputs": []
    }
  ]
}