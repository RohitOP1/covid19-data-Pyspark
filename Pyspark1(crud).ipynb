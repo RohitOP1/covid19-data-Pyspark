{
  "nbformat": 4,
  "nbformat_minor": 0,
  "metadata": {
    "colab": {
      "provenance": []
    },
    "kernelspec": {
      "name": "python3",
      "display_name": "Python 3"
    },
    "language_info": {
      "name": "python"
    }
  },
  "cells": [
    {
      "cell_type": "code",
      "execution_count": null,
      "metadata": {
        "colab": {
          "base_uri": "https://localhost:8080/"
        },
        "id": "XXa1kebyLhOM",
        "outputId": "ea99f51b-855b-4d64-baa1-b1de8144b935"
      },
      "outputs": [
        {
          "output_type": "stream",
          "name": "stdout",
          "text": [
            "Requirement already satisfied: pyspark in /usr/local/lib/python3.11/dist-packages (3.5.5)\n",
            "Requirement already satisfied: py4j==0.10.9.7 in /usr/local/lib/python3.11/dist-packages (from pyspark) (0.10.9.7)\n"
          ]
        }
      ],
      "source": [
        "!pip install pyspark"
      ]
    },
    {
      "cell_type": "code",
      "source": [
        "from google.colab import files\n",
        "uploaded = files.upload()\n"
      ],
      "metadata": {
        "colab": {
          "base_uri": "https://localhost:8080/",
          "height": 253
        },
        "id": "-p6xWg4zLkDF",
        "outputId": "d63e53d9-1919-4f77-d716-9dae569f1c90"
      },
      "execution_count": 2,
      "outputs": [
        {
          "output_type": "display_data",
          "data": {
            "text/plain": [
              "<IPython.core.display.HTML object>"
            ],
            "text/html": [
              "\n",
              "     <input type=\"file\" id=\"files-a563e882-3f21-4d93-8759-d9e16a886d43\" name=\"files[]\" multiple disabled\n",
              "        style=\"border:none\" />\n",
              "     <output id=\"result-a563e882-3f21-4d93-8759-d9e16a886d43\">\n",
              "      Upload widget is only available when the cell has been executed in the\n",
              "      current browser session. Please rerun this cell to enable.\n",
              "      </output>\n",
              "      <script>// Copyright 2017 Google LLC\n",
              "//\n",
              "// Licensed under the Apache License, Version 2.0 (the \"License\");\n",
              "// you may not use this file except in compliance with the License.\n",
              "// You may obtain a copy of the License at\n",
              "//\n",
              "//      http://www.apache.org/licenses/LICENSE-2.0\n",
              "//\n",
              "// Unless required by applicable law or agreed to in writing, software\n",
              "// distributed under the License is distributed on an \"AS IS\" BASIS,\n",
              "// WITHOUT WARRANTIES OR CONDITIONS OF ANY KIND, either express or implied.\n",
              "// See the License for the specific language governing permissions and\n",
              "// limitations under the License.\n",
              "\n",
              "/**\n",
              " * @fileoverview Helpers for google.colab Python module.\n",
              " */\n",
              "(function(scope) {\n",
              "function span(text, styleAttributes = {}) {\n",
              "  const element = document.createElement('span');\n",
              "  element.textContent = text;\n",
              "  for (const key of Object.keys(styleAttributes)) {\n",
              "    element.style[key] = styleAttributes[key];\n",
              "  }\n",
              "  return element;\n",
              "}\n",
              "\n",
              "// Max number of bytes which will be uploaded at a time.\n",
              "const MAX_PAYLOAD_SIZE = 100 * 1024;\n",
              "\n",
              "function _uploadFiles(inputId, outputId) {\n",
              "  const steps = uploadFilesStep(inputId, outputId);\n",
              "  const outputElement = document.getElementById(outputId);\n",
              "  // Cache steps on the outputElement to make it available for the next call\n",
              "  // to uploadFilesContinue from Python.\n",
              "  outputElement.steps = steps;\n",
              "\n",
              "  return _uploadFilesContinue(outputId);\n",
              "}\n",
              "\n",
              "// This is roughly an async generator (not supported in the browser yet),\n",
              "// where there are multiple asynchronous steps and the Python side is going\n",
              "// to poll for completion of each step.\n",
              "// This uses a Promise to block the python side on completion of each step,\n",
              "// then passes the result of the previous step as the input to the next step.\n",
              "function _uploadFilesContinue(outputId) {\n",
              "  const outputElement = document.getElementById(outputId);\n",
              "  const steps = outputElement.steps;\n",
              "\n",
              "  const next = steps.next(outputElement.lastPromiseValue);\n",
              "  return Promise.resolve(next.value.promise).then((value) => {\n",
              "    // Cache the last promise value to make it available to the next\n",
              "    // step of the generator.\n",
              "    outputElement.lastPromiseValue = value;\n",
              "    return next.value.response;\n",
              "  });\n",
              "}\n",
              "\n",
              "/**\n",
              " * Generator function which is called between each async step of the upload\n",
              " * process.\n",
              " * @param {string} inputId Element ID of the input file picker element.\n",
              " * @param {string} outputId Element ID of the output display.\n",
              " * @return {!Iterable<!Object>} Iterable of next steps.\n",
              " */\n",
              "function* uploadFilesStep(inputId, outputId) {\n",
              "  const inputElement = document.getElementById(inputId);\n",
              "  inputElement.disabled = false;\n",
              "\n",
              "  const outputElement = document.getElementById(outputId);\n",
              "  outputElement.innerHTML = '';\n",
              "\n",
              "  const pickedPromise = new Promise((resolve) => {\n",
              "    inputElement.addEventListener('change', (e) => {\n",
              "      resolve(e.target.files);\n",
              "    });\n",
              "  });\n",
              "\n",
              "  const cancel = document.createElement('button');\n",
              "  inputElement.parentElement.appendChild(cancel);\n",
              "  cancel.textContent = 'Cancel upload';\n",
              "  const cancelPromise = new Promise((resolve) => {\n",
              "    cancel.onclick = () => {\n",
              "      resolve(null);\n",
              "    };\n",
              "  });\n",
              "\n",
              "  // Wait for the user to pick the files.\n",
              "  const files = yield {\n",
              "    promise: Promise.race([pickedPromise, cancelPromise]),\n",
              "    response: {\n",
              "      action: 'starting',\n",
              "    }\n",
              "  };\n",
              "\n",
              "  cancel.remove();\n",
              "\n",
              "  // Disable the input element since further picks are not allowed.\n",
              "  inputElement.disabled = true;\n",
              "\n",
              "  if (!files) {\n",
              "    return {\n",
              "      response: {\n",
              "        action: 'complete',\n",
              "      }\n",
              "    };\n",
              "  }\n",
              "\n",
              "  for (const file of files) {\n",
              "    const li = document.createElement('li');\n",
              "    li.append(span(file.name, {fontWeight: 'bold'}));\n",
              "    li.append(span(\n",
              "        `(${file.type || 'n/a'}) - ${file.size} bytes, ` +\n",
              "        `last modified: ${\n",
              "            file.lastModifiedDate ? file.lastModifiedDate.toLocaleDateString() :\n",
              "                                    'n/a'} - `));\n",
              "    const percent = span('0% done');\n",
              "    li.appendChild(percent);\n",
              "\n",
              "    outputElement.appendChild(li);\n",
              "\n",
              "    const fileDataPromise = new Promise((resolve) => {\n",
              "      const reader = new FileReader();\n",
              "      reader.onload = (e) => {\n",
              "        resolve(e.target.result);\n",
              "      };\n",
              "      reader.readAsArrayBuffer(file);\n",
              "    });\n",
              "    // Wait for the data to be ready.\n",
              "    let fileData = yield {\n",
              "      promise: fileDataPromise,\n",
              "      response: {\n",
              "        action: 'continue',\n",
              "      }\n",
              "    };\n",
              "\n",
              "    // Use a chunked sending to avoid message size limits. See b/62115660.\n",
              "    let position = 0;\n",
              "    do {\n",
              "      const length = Math.min(fileData.byteLength - position, MAX_PAYLOAD_SIZE);\n",
              "      const chunk = new Uint8Array(fileData, position, length);\n",
              "      position += length;\n",
              "\n",
              "      const base64 = btoa(String.fromCharCode.apply(null, chunk));\n",
              "      yield {\n",
              "        response: {\n",
              "          action: 'append',\n",
              "          file: file.name,\n",
              "          data: base64,\n",
              "        },\n",
              "      };\n",
              "\n",
              "      let percentDone = fileData.byteLength === 0 ?\n",
              "          100 :\n",
              "          Math.round((position / fileData.byteLength) * 100);\n",
              "      percent.textContent = `${percentDone}% done`;\n",
              "\n",
              "    } while (position < fileData.byteLength);\n",
              "  }\n",
              "\n",
              "  // All done.\n",
              "  yield {\n",
              "    response: {\n",
              "      action: 'complete',\n",
              "    }\n",
              "  };\n",
              "}\n",
              "\n",
              "scope.google = scope.google || {};\n",
              "scope.google.colab = scope.google.colab || {};\n",
              "scope.google.colab._files = {\n",
              "  _uploadFiles,\n",
              "  _uploadFilesContinue,\n",
              "};\n",
              "})(self);\n",
              "</script> "
            ]
          },
          "metadata": {}
        },
        {
          "output_type": "stream",
          "name": "stdout",
          "text": [
            "Saving country_wise_latest.csv to country_wise_latest.csv\n",
            "Saving covid_19_clean_complete.csv to covid_19_clean_complete.csv\n",
            "Saving day_wise.csv to day_wise.csv\n",
            "Saving full_grouped.csv to full_grouped.csv\n",
            "Saving usa_county_wise.csv to usa_county_wise.csv\n",
            "Saving worldometer_data.csv to worldometer_data.csv\n"
          ]
        }
      ]
    },
    {
      "cell_type": "code",
      "source": [
        "# Step 1: Import SparkSession\n",
        "from pyspark.sql import SparkSession\n",
        "\n",
        "# Step 2: Start Spark session\n",
        "spark = SparkSession.builder \\\n",
        "    .appName(\"Read CSV Example\") \\\n",
        "    .getOrCreate()\n",
        "\n",
        "# Step 3: Read the CSV file\n",
        "df = spark.read.csv(\"country_wise_latest.csv\", header=True, inferSchema=True)\n",
        "\n",
        "# Step 4: Show the data\n",
        "df.show()\n"
      ],
      "metadata": {
        "id": "p-ZX17TULoOz",
        "colab": {
          "base_uri": "https://localhost:8080/"
        },
        "outputId": "b5fc1834-b2b9-4828-bbde-be4e8029b535"
      },
      "execution_count": 5,
      "outputs": [
        {
          "output_type": "stream",
          "name": "stdout",
          "text": [
            "+-------------------+---------+------+---------+------+---------+----------+-------------+------------------+---------------------+----------------------+-------------------+-------------+-----------------+--------------------+\n",
            "|     Country/Region|Confirmed|Deaths|Recovered|Active|New cases|New deaths|New recovered|Deaths / 100 Cases|Recovered / 100 Cases|Deaths / 100 Recovered|Confirmed last week|1 week change|1 week % increase|          WHO Region|\n",
            "+-------------------+---------+------+---------+------+---------+----------+-------------+------------------+---------------------+----------------------+-------------------+-------------+-----------------+--------------------+\n",
            "|        Afghanistan|    36263|  1269|    25198|  9796|      106|        10|           18|               3.5|                69.49|                  5.04|              35526|          737|             2.07|Eastern Mediterra...|\n",
            "|            Albania|     4880|   144|     2745|  1991|      117|         6|           63|              2.95|                56.25|                  5.25|               4171|          709|             17.0|              Europe|\n",
            "|            Algeria|    27973|  1163|    18837|  7973|      616|         8|          749|              4.16|                67.34|                  6.17|              23691|         4282|            18.07|              Africa|\n",
            "|            Andorra|      907|    52|      803|    52|       10|         0|            0|              5.73|                88.53|                  6.48|                884|           23|              2.6|              Europe|\n",
            "|             Angola|      950|    41|      242|   667|       18|         1|            0|              4.32|                25.47|                 16.94|                749|          201|            26.84|              Africa|\n",
            "|Antigua and Barbuda|       86|     3|       65|    18|        4|         0|            5|              3.49|                75.58|                  4.62|                 76|           10|            13.16|            Americas|\n",
            "|          Argentina|   167416|  3059|    72575| 91782|     4890|       120|         2057|              1.83|                43.35|                  4.21|             130774|        36642|            28.02|            Americas|\n",
            "|            Armenia|    37390|   711|    26665| 10014|       73|         6|          187|               1.9|                71.32|                  2.67|              34981|         2409|             6.89|              Europe|\n",
            "|          Australia|    15303|   167|     9311|  5825|      368|         6|          137|              1.09|                60.84|                  1.79|              12428|         2875|            23.13|     Western Pacific|\n",
            "|            Austria|    20558|   713|    18246|  1599|       86|         1|           37|              3.47|                88.75|                  3.91|              19743|          815|             4.13|              Europe|\n",
            "|         Azerbaijan|    30446|   423|    23242|  6781|      396|         6|          558|              1.39|                76.34|                  1.82|              27890|         2556|             9.16|              Europe|\n",
            "|            Bahamas|      382|    11|       91|   280|       40|         0|            0|              2.88|                23.82|                 12.09|                174|          208|           119.54|            Americas|\n",
            "|            Bahrain|    39482|   141|    36110|  3231|      351|         1|          421|              0.36|                91.46|                  0.39|              36936|         2546|             6.89|Eastern Mediterra...|\n",
            "|         Bangladesh|   226225|  2965|   125683| 97577|     2772|        37|         1801|              1.31|                55.56|                  2.36|             207453|        18772|             9.05|     South-East Asia|\n",
            "|           Barbados|      110|     7|       94|     9|        0|         0|            0|              6.36|                85.45|                  7.45|                106|            4|             3.77|            Americas|\n",
            "|            Belarus|    67251|   538|    60492|  6221|      119|         4|           67|               0.8|                89.95|                  0.89|              66213|         1038|             1.57|              Europe|\n",
            "|            Belgium|    66428|  9822|    17452| 39154|      402|         1|           14|             14.79|                26.27|                 56.28|              64094|         2334|             3.64|              Europe|\n",
            "|             Belize|       48|     2|       26|    20|        0|         0|            0|              4.17|                54.17|                  7.69|                 40|            8|             20.0|            Americas|\n",
            "|              Benin|     1770|    35|     1036|   699|        0|         0|            0|              1.98|                58.53|                  3.38|               1602|          168|            10.49|              Africa|\n",
            "|             Bhutan|       99|     0|       86|    13|        4|         0|            1|               0.0|                86.87|                   0.0|                 90|            9|             10.0|     South-East Asia|\n",
            "+-------------------+---------+------+---------+------+---------+----------+-------------+------------------+---------------------+----------------------+-------------------+-------------+-----------------+--------------------+\n",
            "only showing top 20 rows\n",
            "\n"
          ]
        }
      ]
    },
    {
      "cell_type": "code",
      "source": [
        "df.printSchema()   #to check the data types of the columns\n"
      ],
      "metadata": {
        "colab": {
          "base_uri": "https://localhost:8080/"
        },
        "id": "e9MqSloAVCam",
        "outputId": "0c1091c4-4944-40cf-f629-0e209a7d3c9a"
      },
      "execution_count": 8,
      "outputs": [
        {
          "output_type": "stream",
          "name": "stdout",
          "text": [
            "root\n",
            " |-- Country/Region: string (nullable = true)\n",
            " |-- Confirmed: integer (nullable = true)\n",
            " |-- Deaths: integer (nullable = true)\n",
            " |-- Recovered: integer (nullable = true)\n",
            " |-- Active: integer (nullable = true)\n",
            " |-- New cases: integer (nullable = true)\n",
            " |-- New deaths: integer (nullable = true)\n",
            " |-- New recovered: integer (nullable = true)\n",
            " |-- Deaths / 100 Cases: double (nullable = true)\n",
            " |-- Recovered / 100 Cases: double (nullable = true)\n",
            " |-- Deaths / 100 Recovered: string (nullable = true)\n",
            " |-- Confirmed last week: integer (nullable = true)\n",
            " |-- 1 week change: integer (nullable = true)\n",
            " |-- 1 week % increase: double (nullable = true)\n",
            " |-- WHO Region: string (nullable = true)\n",
            "\n"
          ]
        }
      ]
    },
    {
      "cell_type": "code",
      "source": [
        "print(type(df))\n"
      ],
      "metadata": {
        "colab": {
          "base_uri": "https://localhost:8080/"
        },
        "id": "BdoAE3HTWfUN",
        "outputId": "1cb5255e-1c14-46a5-c089-fb0fea3af7e0"
      },
      "execution_count": 10,
      "outputs": [
        {
          "output_type": "stream",
          "name": "stdout",
          "text": [
            "<class 'pyspark.sql.dataframe.DataFrame'>\n"
          ]
        }
      ]
    },
    {
      "cell_type": "code",
      "source": [
        "df.columns"
      ],
      "metadata": {
        "colab": {
          "base_uri": "https://localhost:8080/"
        },
        "id": "ts7qAPWMXSsE",
        "outputId": "dbf4953d-131e-4776-dfd5-9ee16cfbaeb1"
      },
      "execution_count": 13,
      "outputs": [
        {
          "output_type": "execute_result",
          "data": {
            "text/plain": [
              "['Country/Region',\n",
              " 'Confirmed',\n",
              " 'Deaths',\n",
              " 'Recovered',\n",
              " 'Active',\n",
              " 'New cases',\n",
              " 'New deaths',\n",
              " 'New recovered',\n",
              " 'Deaths / 100 Cases',\n",
              " 'Recovered / 100 Cases',\n",
              " 'Deaths / 100 Recovered',\n",
              " 'Confirmed last week',\n",
              " '1 week change',\n",
              " '1 week % increase',\n",
              " 'WHO Region']"
            ]
          },
          "metadata": {},
          "execution_count": 13
        }
      ]
    },
    {
      "cell_type": "code",
      "source": [
        "df.head(3)"
      ],
      "metadata": {
        "colab": {
          "base_uri": "https://localhost:8080/"
        },
        "id": "fw6OsdaPYQXe",
        "outputId": "2491dc4c-c7f2-4f36-ae41-67fdf9ea53f0"
      },
      "execution_count": 15,
      "outputs": [
        {
          "output_type": "execute_result",
          "data": {
            "text/plain": [
              "[Row(Country/Region='Afghanistan', Confirmed=36263, Deaths=1269, Recovered=25198, Active=9796, New cases=106, New deaths=10, New recovered=18, Deaths / 100 Cases=3.5, Recovered / 100 Cases=69.49, Deaths / 100 Recovered='5.04', Confirmed last week=35526, 1 week change=737, 1 week % increase=2.07, WHO Region='Eastern Mediterranean'),\n",
              " Row(Country/Region='Albania', Confirmed=4880, Deaths=144, Recovered=2745, Active=1991, New cases=117, New deaths=6, New recovered=63, Deaths / 100 Cases=2.95, Recovered / 100 Cases=56.25, Deaths / 100 Recovered='5.25', Confirmed last week=4171, 1 week change=709, 1 week % increase=17.0, WHO Region='Europe'),\n",
              " Row(Country/Region='Algeria', Confirmed=27973, Deaths=1163, Recovered=18837, Active=7973, New cases=616, New deaths=8, New recovered=749, Deaths / 100 Cases=4.16, Recovered / 100 Cases=67.34, Deaths / 100 Recovered='6.17', Confirmed last week=23691, 1 week change=4282, 1 week % increase=18.07, WHO Region='Africa')]"
            ]
          },
          "metadata": {},
          "execution_count": 15
        }
      ]
    },
    {
      "cell_type": "code",
      "source": [
        "df.show()"
      ],
      "metadata": {
        "colab": {
          "base_uri": "https://localhost:8080/"
        },
        "id": "cyrgGbiGZK7h",
        "outputId": "c52593f0-2755-4639-cee3-052043679659"
      },
      "execution_count": 16,
      "outputs": [
        {
          "output_type": "stream",
          "name": "stdout",
          "text": [
            "+-------------------+---------+------+---------+------+---------+----------+-------------+------------------+---------------------+----------------------+-------------------+-------------+-----------------+--------------------+\n",
            "|     Country/Region|Confirmed|Deaths|Recovered|Active|New cases|New deaths|New recovered|Deaths / 100 Cases|Recovered / 100 Cases|Deaths / 100 Recovered|Confirmed last week|1 week change|1 week % increase|          WHO Region|\n",
            "+-------------------+---------+------+---------+------+---------+----------+-------------+------------------+---------------------+----------------------+-------------------+-------------+-----------------+--------------------+\n",
            "|        Afghanistan|    36263|  1269|    25198|  9796|      106|        10|           18|               3.5|                69.49|                  5.04|              35526|          737|             2.07|Eastern Mediterra...|\n",
            "|            Albania|     4880|   144|     2745|  1991|      117|         6|           63|              2.95|                56.25|                  5.25|               4171|          709|             17.0|              Europe|\n",
            "|            Algeria|    27973|  1163|    18837|  7973|      616|         8|          749|              4.16|                67.34|                  6.17|              23691|         4282|            18.07|              Africa|\n",
            "|            Andorra|      907|    52|      803|    52|       10|         0|            0|              5.73|                88.53|                  6.48|                884|           23|              2.6|              Europe|\n",
            "|             Angola|      950|    41|      242|   667|       18|         1|            0|              4.32|                25.47|                 16.94|                749|          201|            26.84|              Africa|\n",
            "|Antigua and Barbuda|       86|     3|       65|    18|        4|         0|            5|              3.49|                75.58|                  4.62|                 76|           10|            13.16|            Americas|\n",
            "|          Argentina|   167416|  3059|    72575| 91782|     4890|       120|         2057|              1.83|                43.35|                  4.21|             130774|        36642|            28.02|            Americas|\n",
            "|            Armenia|    37390|   711|    26665| 10014|       73|         6|          187|               1.9|                71.32|                  2.67|              34981|         2409|             6.89|              Europe|\n",
            "|          Australia|    15303|   167|     9311|  5825|      368|         6|          137|              1.09|                60.84|                  1.79|              12428|         2875|            23.13|     Western Pacific|\n",
            "|            Austria|    20558|   713|    18246|  1599|       86|         1|           37|              3.47|                88.75|                  3.91|              19743|          815|             4.13|              Europe|\n",
            "|         Azerbaijan|    30446|   423|    23242|  6781|      396|         6|          558|              1.39|                76.34|                  1.82|              27890|         2556|             9.16|              Europe|\n",
            "|            Bahamas|      382|    11|       91|   280|       40|         0|            0|              2.88|                23.82|                 12.09|                174|          208|           119.54|            Americas|\n",
            "|            Bahrain|    39482|   141|    36110|  3231|      351|         1|          421|              0.36|                91.46|                  0.39|              36936|         2546|             6.89|Eastern Mediterra...|\n",
            "|         Bangladesh|   226225|  2965|   125683| 97577|     2772|        37|         1801|              1.31|                55.56|                  2.36|             207453|        18772|             9.05|     South-East Asia|\n",
            "|           Barbados|      110|     7|       94|     9|        0|         0|            0|              6.36|                85.45|                  7.45|                106|            4|             3.77|            Americas|\n",
            "|            Belarus|    67251|   538|    60492|  6221|      119|         4|           67|               0.8|                89.95|                  0.89|              66213|         1038|             1.57|              Europe|\n",
            "|            Belgium|    66428|  9822|    17452| 39154|      402|         1|           14|             14.79|                26.27|                 56.28|              64094|         2334|             3.64|              Europe|\n",
            "|             Belize|       48|     2|       26|    20|        0|         0|            0|              4.17|                54.17|                  7.69|                 40|            8|             20.0|            Americas|\n",
            "|              Benin|     1770|    35|     1036|   699|        0|         0|            0|              1.98|                58.53|                  3.38|               1602|          168|            10.49|              Africa|\n",
            "|             Bhutan|       99|     0|       86|    13|        4|         0|            1|               0.0|                86.87|                   0.0|                 90|            9|             10.0|     South-East Asia|\n",
            "+-------------------+---------+------+---------+------+---------+----------+-------------+------------------+---------------------+----------------------+-------------------+-------------+-----------------+--------------------+\n",
            "only showing top 20 rows\n",
            "\n"
          ]
        }
      ]
    },
    {
      "cell_type": "code",
      "source": [
        "df.select('Country/Region','Confirmed').show()"
      ],
      "metadata": {
        "colab": {
          "base_uri": "https://localhost:8080/"
        },
        "id": "fOdI53RUZf0l",
        "outputId": "b8e0d50c-4e28-4b5e-eb43-a0de4da903da"
      },
      "execution_count": 21,
      "outputs": [
        {
          "output_type": "stream",
          "name": "stdout",
          "text": [
            "+-------------------+---------+\n",
            "|     Country/Region|Confirmed|\n",
            "+-------------------+---------+\n",
            "|        Afghanistan|    36263|\n",
            "|            Albania|     4880|\n",
            "|            Algeria|    27973|\n",
            "|            Andorra|      907|\n",
            "|             Angola|      950|\n",
            "|Antigua and Barbuda|       86|\n",
            "|          Argentina|   167416|\n",
            "|            Armenia|    37390|\n",
            "|          Australia|    15303|\n",
            "|            Austria|    20558|\n",
            "|         Azerbaijan|    30446|\n",
            "|            Bahamas|      382|\n",
            "|            Bahrain|    39482|\n",
            "|         Bangladesh|   226225|\n",
            "|           Barbados|      110|\n",
            "|            Belarus|    67251|\n",
            "|            Belgium|    66428|\n",
            "|             Belize|       48|\n",
            "|              Benin|     1770|\n",
            "|             Bhutan|       99|\n",
            "+-------------------+---------+\n",
            "only showing top 20 rows\n",
            "\n"
          ]
        }
      ]
    },
    {
      "cell_type": "code",
      "source": [
        "   df['deaths']"
      ],
      "metadata": {
        "colab": {
          "base_uri": "https://localhost:8080/"
        },
        "id": "jE__o0ZrZqRM",
        "outputId": "f88c5648-7b48-42f5-c3a6-ff0e0fb2fbe2"
      },
      "execution_count": 22,
      "outputs": [
        {
          "output_type": "execute_result",
          "data": {
            "text/plain": [
              "Column<'deaths'>"
            ]
          },
          "metadata": {},
          "execution_count": 22
        }
      ]
    },
    {
      "cell_type": "code",
      "source": [
        "df.dtypes"
      ],
      "metadata": {
        "colab": {
          "base_uri": "https://localhost:8080/"
        },
        "id": "SzyCoNb7bQPQ",
        "outputId": "d543822f-2e10-4ae8-98a5-9f0ada2ddda0"
      },
      "execution_count": 23,
      "outputs": [
        {
          "output_type": "execute_result",
          "data": {
            "text/plain": [
              "[('Country/Region', 'string'),\n",
              " ('Confirmed', 'int'),\n",
              " ('Deaths', 'int'),\n",
              " ('Recovered', 'int'),\n",
              " ('Active', 'int'),\n",
              " ('New cases', 'int'),\n",
              " ('New deaths', 'int'),\n",
              " ('New recovered', 'int'),\n",
              " ('Deaths / 100 Cases', 'double'),\n",
              " ('Recovered / 100 Cases', 'double'),\n",
              " ('Deaths / 100 Recovered', 'string'),\n",
              " ('Confirmed last week', 'int'),\n",
              " ('1 week change', 'int'),\n",
              " ('1 week % increase', 'double'),\n",
              " ('WHO Region', 'string')]"
            ]
          },
          "metadata": {},
          "execution_count": 23
        }
      ]
    },
    {
      "cell_type": "code",
      "source": [
        "df.describe().show()"
      ],
      "metadata": {
        "colab": {
          "base_uri": "https://localhost:8080/"
        },
        "id": "IwWim7msbT4j",
        "outputId": "1b0631eb-f6fe-45a5-dd8c-78de3e5936e7"
      },
      "execution_count": 25,
      "outputs": [
        {
          "output_type": "stream",
          "name": "stdout",
          "text": [
            "+-------+--------------+-----------------+-----------------+------------------+------------------+-----------------+------------------+-----------------+------------------+---------------------+----------------------+-------------------+-----------------+------------------+---------------+\n",
            "|summary|Country/Region|        Confirmed|           Deaths|         Recovered|            Active|        New cases|        New deaths|    New recovered|Deaths / 100 Cases|Recovered / 100 Cases|Deaths / 100 Recovered|Confirmed last week|    1 week change| 1 week % increase|     WHO Region|\n",
            "+-------+--------------+-----------------+-----------------+------------------+------------------+-----------------+------------------+-----------------+------------------+---------------------+----------------------+-------------------+-----------------+------------------+---------------+\n",
            "|  count|           187|              187|              187|               187|               187|              187|               187|              187|               187|                  187|                   187|                187|              187|               187|            187|\n",
            "|   mean|          NULL|  88130.935828877| 3497.51871657754| 50631.48128342246|   34001.935828877|1222.957219251337|  28.9572192513369| 933.812834224599|3.0195187165775392|    64.82053475935835|              Infinity|  78682.47593582887|9448.459893048128|13.606203208556153|           NULL|\n",
            "| stddev|          NULL|383318.6638306154|14100.00248201848|190188.18964313966|213326.17337142891|5710.374790280563|120.03717295550823|4197.719634688254| 3.454302488361351|   26.287694261858874|                   NaN| 338273.67656653706|47491.12768403526| 24.50983774445599|           NULL|\n",
            "|    min|   Afghanistan|               10|                0|                 0|                 0|                0|                 0|                0|               0.0|                  0.0|                   0.0|                 10|              -47|             -3.84|         Africa|\n",
            "|    max|      Zimbabwe|          4290259|           148011|           1846641|           2816444|            56336|              1076|            33728|             28.56|                100.0|                   inf|            3834677|           455582|            226.32|Western Pacific|\n",
            "+-------+--------------+-----------------+-----------------+------------------+------------------+-----------------+------------------+-----------------+------------------+---------------------+----------------------+-------------------+-----------------+------------------+---------------+\n",
            "\n"
          ]
        }
      ]
    },
    {
      "cell_type": "code",
      "source": [
        "#### Adding columns in df\n",
        "df.withColumn('Confirmed_plus_10',df['Confirmed']+10)"
      ],
      "metadata": {
        "colab": {
          "base_uri": "https://localhost:8080/"
        },
        "id": "-PZnfs47bZzH",
        "outputId": "e450b109-9a52-47eb-fbb2-4eea01ca7d2f"
      },
      "execution_count": 28,
      "outputs": [
        {
          "output_type": "execute_result",
          "data": {
            "text/plain": [
              "DataFrame[Country/Region: string, Confirmed: int, Deaths: int, Recovered: int, Active: int, New cases: int, New deaths: int, New recovered: int, Deaths / 100 Cases: double, Recovered / 100 Cases: double, Deaths / 100 Recovered: string, Confirmed last week: int, 1 week change: int, 1 week % increase: double, WHO Region: string, Confirmed_plus_10: int]"
            ]
          },
          "metadata": {},
          "execution_count": 28
        }
      ]
    },
    {
      "cell_type": "code",
      "source": [
        "##Drop columns\n",
        "df1=df.drop('Confirmed_plus_10')"
      ],
      "metadata": {
        "id": "v0Esye1lbttG"
      },
      "execution_count": 30,
      "outputs": []
    },
    {
      "cell_type": "code",
      "source": [
        "df1.show()"
      ],
      "metadata": {
        "colab": {
          "base_uri": "https://localhost:8080/"
        },
        "id": "XMJHCEeZcRgr",
        "outputId": "23796cbe-9d00-4ac5-e8a6-a4f5e110abb9"
      },
      "execution_count": 31,
      "outputs": [
        {
          "output_type": "stream",
          "name": "stdout",
          "text": [
            "+-------------------+---------+------+---------+------+---------+----------+-------------+------------------+---------------------+----------------------+-------------------+-------------+-----------------+--------------------+\n",
            "|     Country/Region|Confirmed|Deaths|Recovered|Active|New cases|New deaths|New recovered|Deaths / 100 Cases|Recovered / 100 Cases|Deaths / 100 Recovered|Confirmed last week|1 week change|1 week % increase|          WHO Region|\n",
            "+-------------------+---------+------+---------+------+---------+----------+-------------+------------------+---------------------+----------------------+-------------------+-------------+-----------------+--------------------+\n",
            "|        Afghanistan|    36263|  1269|    25198|  9796|      106|        10|           18|               3.5|                69.49|                  5.04|              35526|          737|             2.07|Eastern Mediterra...|\n",
            "|            Albania|     4880|   144|     2745|  1991|      117|         6|           63|              2.95|                56.25|                  5.25|               4171|          709|             17.0|              Europe|\n",
            "|            Algeria|    27973|  1163|    18837|  7973|      616|         8|          749|              4.16|                67.34|                  6.17|              23691|         4282|            18.07|              Africa|\n",
            "|            Andorra|      907|    52|      803|    52|       10|         0|            0|              5.73|                88.53|                  6.48|                884|           23|              2.6|              Europe|\n",
            "|             Angola|      950|    41|      242|   667|       18|         1|            0|              4.32|                25.47|                 16.94|                749|          201|            26.84|              Africa|\n",
            "|Antigua and Barbuda|       86|     3|       65|    18|        4|         0|            5|              3.49|                75.58|                  4.62|                 76|           10|            13.16|            Americas|\n",
            "|          Argentina|   167416|  3059|    72575| 91782|     4890|       120|         2057|              1.83|                43.35|                  4.21|             130774|        36642|            28.02|            Americas|\n",
            "|            Armenia|    37390|   711|    26665| 10014|       73|         6|          187|               1.9|                71.32|                  2.67|              34981|         2409|             6.89|              Europe|\n",
            "|          Australia|    15303|   167|     9311|  5825|      368|         6|          137|              1.09|                60.84|                  1.79|              12428|         2875|            23.13|     Western Pacific|\n",
            "|            Austria|    20558|   713|    18246|  1599|       86|         1|           37|              3.47|                88.75|                  3.91|              19743|          815|             4.13|              Europe|\n",
            "|         Azerbaijan|    30446|   423|    23242|  6781|      396|         6|          558|              1.39|                76.34|                  1.82|              27890|         2556|             9.16|              Europe|\n",
            "|            Bahamas|      382|    11|       91|   280|       40|         0|            0|              2.88|                23.82|                 12.09|                174|          208|           119.54|            Americas|\n",
            "|            Bahrain|    39482|   141|    36110|  3231|      351|         1|          421|              0.36|                91.46|                  0.39|              36936|         2546|             6.89|Eastern Mediterra...|\n",
            "|         Bangladesh|   226225|  2965|   125683| 97577|     2772|        37|         1801|              1.31|                55.56|                  2.36|             207453|        18772|             9.05|     South-East Asia|\n",
            "|           Barbados|      110|     7|       94|     9|        0|         0|            0|              6.36|                85.45|                  7.45|                106|            4|             3.77|            Americas|\n",
            "|            Belarus|    67251|   538|    60492|  6221|      119|         4|           67|               0.8|                89.95|                  0.89|              66213|         1038|             1.57|              Europe|\n",
            "|            Belgium|    66428|  9822|    17452| 39154|      402|         1|           14|             14.79|                26.27|                 56.28|              64094|         2334|             3.64|              Europe|\n",
            "|             Belize|       48|     2|       26|    20|        0|         0|            0|              4.17|                54.17|                  7.69|                 40|            8|             20.0|            Americas|\n",
            "|              Benin|     1770|    35|     1036|   699|        0|         0|            0|              1.98|                58.53|                  3.38|               1602|          168|            10.49|              Africa|\n",
            "|             Bhutan|       99|     0|       86|    13|        4|         0|            1|               0.0|                86.87|                   0.0|                 90|            9|             10.0|     South-East Asia|\n",
            "+-------------------+---------+------+---------+------+---------+----------+-------------+------------------+---------------------+----------------------+-------------------+-------------+-----------------+--------------------+\n",
            "only showing top 20 rows\n",
            "\n"
          ]
        }
      ]
    },
    {
      "cell_type": "code",
      "source": [
        "df.withColumnRenamed('Country/Region','Country').show()  ##rename column"
      ],
      "metadata": {
        "colab": {
          "base_uri": "https://localhost:8080/"
        },
        "id": "WJdiISkpcauH",
        "outputId": "69129d2b-96ab-491a-8266-31eabf7fc967"
      },
      "execution_count": 32,
      "outputs": [
        {
          "output_type": "stream",
          "name": "stdout",
          "text": [
            "+-------------------+---------+------+---------+------+---------+----------+-------------+------------------+---------------------+----------------------+-------------------+-------------+-----------------+--------------------+\n",
            "|            Country|Confirmed|Deaths|Recovered|Active|New cases|New deaths|New recovered|Deaths / 100 Cases|Recovered / 100 Cases|Deaths / 100 Recovered|Confirmed last week|1 week change|1 week % increase|          WHO Region|\n",
            "+-------------------+---------+------+---------+------+---------+----------+-------------+------------------+---------------------+----------------------+-------------------+-------------+-----------------+--------------------+\n",
            "|        Afghanistan|    36263|  1269|    25198|  9796|      106|        10|           18|               3.5|                69.49|                  5.04|              35526|          737|             2.07|Eastern Mediterra...|\n",
            "|            Albania|     4880|   144|     2745|  1991|      117|         6|           63|              2.95|                56.25|                  5.25|               4171|          709|             17.0|              Europe|\n",
            "|            Algeria|    27973|  1163|    18837|  7973|      616|         8|          749|              4.16|                67.34|                  6.17|              23691|         4282|            18.07|              Africa|\n",
            "|            Andorra|      907|    52|      803|    52|       10|         0|            0|              5.73|                88.53|                  6.48|                884|           23|              2.6|              Europe|\n",
            "|             Angola|      950|    41|      242|   667|       18|         1|            0|              4.32|                25.47|                 16.94|                749|          201|            26.84|              Africa|\n",
            "|Antigua and Barbuda|       86|     3|       65|    18|        4|         0|            5|              3.49|                75.58|                  4.62|                 76|           10|            13.16|            Americas|\n",
            "|          Argentina|   167416|  3059|    72575| 91782|     4890|       120|         2057|              1.83|                43.35|                  4.21|             130774|        36642|            28.02|            Americas|\n",
            "|            Armenia|    37390|   711|    26665| 10014|       73|         6|          187|               1.9|                71.32|                  2.67|              34981|         2409|             6.89|              Europe|\n",
            "|          Australia|    15303|   167|     9311|  5825|      368|         6|          137|              1.09|                60.84|                  1.79|              12428|         2875|            23.13|     Western Pacific|\n",
            "|            Austria|    20558|   713|    18246|  1599|       86|         1|           37|              3.47|                88.75|                  3.91|              19743|          815|             4.13|              Europe|\n",
            "|         Azerbaijan|    30446|   423|    23242|  6781|      396|         6|          558|              1.39|                76.34|                  1.82|              27890|         2556|             9.16|              Europe|\n",
            "|            Bahamas|      382|    11|       91|   280|       40|         0|            0|              2.88|                23.82|                 12.09|                174|          208|           119.54|            Americas|\n",
            "|            Bahrain|    39482|   141|    36110|  3231|      351|         1|          421|              0.36|                91.46|                  0.39|              36936|         2546|             6.89|Eastern Mediterra...|\n",
            "|         Bangladesh|   226225|  2965|   125683| 97577|     2772|        37|         1801|              1.31|                55.56|                  2.36|             207453|        18772|             9.05|     South-East Asia|\n",
            "|           Barbados|      110|     7|       94|     9|        0|         0|            0|              6.36|                85.45|                  7.45|                106|            4|             3.77|            Americas|\n",
            "|            Belarus|    67251|   538|    60492|  6221|      119|         4|           67|               0.8|                89.95|                  0.89|              66213|         1038|             1.57|              Europe|\n",
            "|            Belgium|    66428|  9822|    17452| 39154|      402|         1|           14|             14.79|                26.27|                 56.28|              64094|         2334|             3.64|              Europe|\n",
            "|             Belize|       48|     2|       26|    20|        0|         0|            0|              4.17|                54.17|                  7.69|                 40|            8|             20.0|            Americas|\n",
            "|              Benin|     1770|    35|     1036|   699|        0|         0|            0|              1.98|                58.53|                  3.38|               1602|          168|            10.49|              Africa|\n",
            "|             Bhutan|       99|     0|       86|    13|        4|         0|            1|               0.0|                86.87|                   0.0|                 90|            9|             10.0|     South-East Asia|\n",
            "+-------------------+---------+------+---------+------+---------+----------+-------------+------------------+---------------------+----------------------+-------------------+-------------+-----------------+--------------------+\n",
            "only showing top 20 rows\n",
            "\n"
          ]
        }
      ]
    },
    {
      "cell_type": "code",
      "source": [],
      "metadata": {
        "id": "X57cUHC7cmab"
      },
      "execution_count": null,
      "outputs": []
    }
  ]
}